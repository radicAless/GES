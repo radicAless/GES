{
  "cells": [
    {
      "cell_type": "code",
      "execution_count": 1,
      "metadata": {
        "id": "bFEE6cVcamHi"
      },
      "outputs": [],
      "source": [
        "%%capture\n",
        "!apt install python3-dev graphviz libgraphviz-dev pkg-config\n",
        "!pip install networkx pygraphviz matplotlib ges"
      ]
    },
    {
      "cell_type": "code",
      "execution_count": 2,
      "metadata": {
        "id": "2LvgkKcGJtMf"
      },
      "outputs": [],
      "source": [
        "import numpy as np\n",
        "import pandas as pd\n",
        "import networkx as nx\n",
        "import ges\n",
        "\n",
        "from networkx.drawing.nx_agraph import graphviz_layout\n",
        "from typing import List"
      ]
    },
    {
      "cell_type": "code",
      "execution_count": 3,
      "metadata": {
        "id": "mvKlwMvNOrw7"
      },
      "outputs": [],
      "source": [
        "# Get machine epsilon.\n",
        "e = np.finfo(np.float64).eps"
      ]
    },
    {
      "cell_type": "markdown",
      "metadata": {
        "id": "kFpk2Fi6bs1-"
      },
      "source": [
        "# Learning Bayesian Networks from Data with Greedy Equivalent Search (GES)"
      ]
    },
    {
      "cell_type": "markdown",
      "metadata": {
        "id": "yNfpPGO0boYG"
      },
      "source": [
        "## Introduction"
      ]
    },
    {
      "cell_type": "markdown",
      "metadata": {
        "id": "wjI63pPptIP0"
      },
      "source": [
        "GES (short for Greedy Equivalence Search) is a score-based algorithm for causal inference which tries to find the causal network behind the observational data.\n",
        "\n",
        "The search is guided by a proper scoring criterion, which evaluates the goodness-of-fit between a given graph and the data, and it has to be optimized. Bayesian Information Criterion (BIC) is proved to be among those suitable metrics, and is chosen as our metric to be maximized.\n",
        "\n",
        "The computation of BIC is divided in multiple steps (functions):\n",
        "\n",
        "- N(X,Z,D): extracts the absolute frequencies of observing in the dataframe D the 'r' various states of X through all the 'q' possible configurations of the variables in the set Z and saves them in a matrix (numpy array) 'q x r'\n",
        "\n",
        "- ℓℓ(X,Z,D): using the elements of N(X,Z,D), computes the local log-likelihood of variable X in relation to the set of variables Z according to the dataframe D\n",
        "\n",
        "- LL(G,D): computes the log-likelihood of the graph G according to the dataset D by summing the values of ℓℓ(X,parents(X),D) for all variables X in G\n",
        "\n",
        "- BIC(G,D): computes BIC of graph G according to dataset D, exploiting LL(G,D) for the first term of the formula.\n",
        "\n",
        "The peculiarity of GES is its capability of traversing through the space of CPDAGs, the equivalence classes of DAGs sharing the same sets of conditional independencies (d-separated sets of variables): the output of GES, therefore, is the CPDAG representative of the class where the causal network of interest belongs, which can be subsequently inferred exploiting domain expertise.\n",
        "\n",
        "GES starts from an empty network (unique representative of its equivalence class) and applies two algorithms in sequence:\n",
        "\n",
        "- FES (Forward Equivalence Search): during each step, among a selection of graphs, created by adding an arc to the stored CPDAG and adjusting edge direction accordingly, the one with maximum BIC is chosen to replace the previous CPDAG. This graph obtained is generally a PDAG, in which case it's converted to the corrispondent CPDAG. The search stops when the BIC reaches local maximum (that is, any edge addition results in graphs with lower BIC than the current CPDAG)\n",
        "\n",
        "- BES (Backward Equivalence Search): the output of FES is given to BES which, in a mirror fashion, iteratively deletes arcs and adjust edge directions to eventually obtain a CPDAG that reaches local maximum BIC (which is GES's final output).\n",
        "\n",
        "Graph modeling, operations and property extractions are carried thanks to the 'networkx' package.\n"
      ]
    },
    {
      "cell_type": "markdown",
      "metadata": {
        "id": "p5zcVqbGbpte"
      },
      "source": [
        "## Implementation"
      ]
    },
    {
      "cell_type": "code",
      "execution_count": 4,
      "metadata": {
        "id": "W4v1jjiKEQJc"
      },
      "outputs": [],
      "source": [
        "# additional imports\n",
        "import itertools\n",
        "from itertools import chain, combinations\n",
        "\n",
        "def powerset(iterable):\n",
        "    s = list(iterable)\n",
        "    return set(chain.from_iterable(set(combinations(s, r) for r in range(len(s)+1))))"
      ]
    },
    {
      "cell_type": "code",
      "execution_count": 5,
      "metadata": {
        "colab": {
          "base_uri": "https://localhost:8080/"
        },
        "id": "R54mZC6VAR2N",
        "outputId": "255dfadc-76e8-4db7-8367-80bd12f87619"
      },
      "outputs": [
        {
          "name": "stdout",
          "output_type": "stream",
          "text": [
            "Mounted at /content/drive/\n"
          ]
        }
      ],
      "source": [
        "from google.colab import drive\n",
        "drive.mount('/content/drive/')"
      ]
    },
    {
      "cell_type": "markdown",
      "metadata": {
        "id": "6UvSuE-DYKYy"
      },
      "source": [
        "### Read Data and Graph"
      ]
    },
    {
      "cell_type": "code",
      "execution_count": 6,
      "metadata": {
        "id": "4Mu20gfmKpNE"
      },
      "outputs": [],
      "source": [
        "# Read data from file.\n",
        "D = pd.read_csv(\"/content/drive/MyDrive/final_project_data.csv\", dtype = \"category\")\n",
        "# Build the true graph.\n",
        "G = nx.DiGraph([\n",
        "    (\"A\", \"T\"),\n",
        "    (\"S\", \"L\"),\n",
        "    (\"S\", \"B\"),\n",
        "    (\"B\", \"D\"),\n",
        "    (\"E\", \"D\"),\n",
        "    (\"T\", \"E\"),\n",
        "    (\"L\", \"E\"),\n",
        "    (\"E\", \"X\")\n",
        "])"
      ]
    },
    {
      "cell_type": "code",
      "execution_count": 7,
      "metadata": {
        "colab": {
          "base_uri": "https://localhost:8080/",
          "height": 406
        },
        "id": "PfEtth_saRVv",
        "outputId": "13c78d8a-6355-4013-a430-ae1085113e4c"
      },
      "outputs": [
        {
          "data": {
            "image/png": "[encoded data removed]",
            "text/plain": [
              "<Figure size 640x480 with 1 Axes>"
            ]
          },
          "metadata": {},
          "output_type": "display_data"
        }
      ],
      "source": [
        "nx.draw_networkx(G, pos = graphviz_layout(G, prog = \"dot\"), with_labels = True)"
      ]
    },
    {
      "cell_type": "markdown",
      "metadata": {
        "id": "amsIARH0U0ON"
      },
      "source": [
        "### Computing the Absolute Frequencies"
      ]
    },
    {
      "cell_type": "code",
      "execution_count": 8,
      "metadata": {
        "id": "wp7863ExJzQ-"
      },
      "outputs": [],
      "source": [
        "# Compute the absolute frequencies N(X, Pa(X) | D).\n",
        "def N(X: str, Z: List[str], D: pd.DataFrame) -> np.ndarray:\n",
        "\n",
        "    if len(Z)!=0:\n",
        "\n",
        "      N=D.groupby(by=Z).value_counts(X).to_numpy(dtype=np.int64)\n",
        "      return np.reshape(N, newshape= (np.prod(D[Z].nunique()),D.X.nunique()))\n",
        "\n",
        "    else:\n",
        "      return np.array([D[X].value_counts().to_numpy()])"
      ]
    },
    {
      "cell_type": "code",
      "execution_count": 9,
      "metadata": {
        "id": "4q2TpDPZUCYj"
      },
      "outputs": [],
      "source": [
        "# Compute N(A | D).\n",
        "np.testing.assert_equal(\n",
        "    N(\"A\", [], D),\n",
        "    np.array([[4958,   42]])\n",
        ")"
      ]
    },
    {
      "cell_type": "code",
      "execution_count": 10,
      "metadata": {
        "id": "1sHR1CA-ULRS"
      },
      "outputs": [],
      "source": [
        "# Compute N(A, [L] | D).\n",
        "np.testing.assert_equal(\n",
        "    N(\"A\", [\"L\"], D),\n",
        "    np.array([\n",
        "        [4632,   38],\n",
        "        [ 326,    4]\n",
        "    ])\n",
        ")"
      ]
    },
    {
      "cell_type": "code",
      "execution_count": 11,
      "metadata": {
        "id": "k8MIKC1sK9g9"
      },
      "outputs": [],
      "source": [
        "# Compute N(A, [L, T] | D).\n",
        "np.testing.assert_equal(\n",
        "    N(\"A\", [\"L\", \"T\"], D),\n",
        "    np.array([\n",
        "        [4594,   36],\n",
        "        [  38,    2],\n",
        "        [ 322,    4],\n",
        "        [   4,    0]\n",
        "    ])\n",
        ")"
      ]
    },
    {
      "cell_type": "markdown",
      "metadata": {
        "id": "FX67s0JXUwP2"
      },
      "source": [
        "### Computing the Log-Likelihood\n",
        "\n"
      ]
    },
    {
      "cell_type": "code",
      "execution_count": 12,
      "metadata": {
        "id": "cmF6OYiVN1T2"
      },
      "outputs": [],
      "source": [
        "from math import log10, log\n",
        "# Compute the log-likelihood ll(X, Pa(X) | D).\n",
        "def ll(X: str, Z: List[str], D: pd.DataFrame) -> float:\n",
        "\n",
        "    freqs=N(X,Z,D)\n",
        "    local_ll=0\n",
        "\n",
        "    for j in range(0,freqs.shape[0]):\n",
        "      row_sum=np.sum(freqs[j])\n",
        "      for k in range(0,freqs.shape[1]):\n",
        "        if(freqs[j][k]>0):\n",
        "          local_ll+= freqs[j][k] * log( freqs[j][k] / row_sum )\n",
        "\n",
        "    return local_ll\n"
      ]
    },
    {
      "cell_type": "code",
      "execution_count": 13,
      "metadata": {
        "id": "Tt0rCwR0Pvjh"
      },
      "outputs": [],
      "source": [
        "# Compute ll(A | D).\n",
        "np.testing.assert_approx_equal(\n",
        "    ll(\"A\", [], D),\n",
        "    -242.5631\n",
        ")"
      ]
    },
    {
      "cell_type": "code",
      "execution_count": 14,
      "metadata": {
        "id": "vs1WetrHRB0A"
      },
      "outputs": [],
      "source": [
        "# Compute ll(A, [L] | D).\n",
        "np.testing.assert_approx_equal(\n",
        "    ll(\"A\", [\"L\"], D),\n",
        "    -242.3023\n",
        ")"
      ]
    },
    {
      "cell_type": "code",
      "execution_count": 15,
      "metadata": {
        "id": "BYnoZWJjU-32"
      },
      "outputs": [],
      "source": [
        "# Compute ll(A, [L, T] | D).\n",
        "np.testing.assert_approx_equal(\n",
        "    ll(\"A\", [\"L\", \"T\"], D),\n",
        "    -240.2226\n",
        ")"
      ]
    },
    {
      "cell_type": "code",
      "execution_count": 16,
      "metadata": {
        "id": "NX6wM9ClWsNJ"
      },
      "outputs": [],
      "source": [
        "# Compute the Log-Likelihood LL(G | D).\n",
        "def LL(G: nx.DiGraph, D: pd.DataFrame) -> float:\n",
        "\n",
        "    Log_Likelihood=0\n",
        "\n",
        "    for n in G.nodes:\n",
        "      parents=[u for u in G.nodes if G.has_edge(u,n)]\n",
        "      Log_Likelihood+=ll(n,parents,D)\n",
        "\n",
        "    return Log_Likelihood"
      ]
    },
    {
      "cell_type": "code",
      "execution_count": 17,
      "metadata": {
        "id": "mAdLfgKna7iC"
      },
      "outputs": [],
      "source": [
        "# Compute LL(G | D).\n",
        "np.testing.assert_approx_equal(\n",
        "    LL(G, D),\n",
        "    -11033.0871\n",
        ")"
      ]
    },
    {
      "cell_type": "markdown",
      "metadata": {
        "id": "kBRve3I0tfoR"
      },
      "source": [
        "### Computing the BIC"
      ]
    },
    {
      "cell_type": "code",
      "execution_count": 18,
      "metadata": {
        "colab": {
          "base_uri": "https://localhost:8080/"
        },
        "id": "xKy4EcD3tkgU",
        "outputId": "238d1b1d-9702-48c4-8567-370d34b332a5"
      },
      "outputs": [
        {
          "name": "stdout",
          "output_type": "stream",
          "text": [
            "BIC(G,D) = -22372.7932224327\n"
          ]
        }
      ],
      "source": [
        "# Compute the Bayesian Information Criterion BIC(G | D).\n",
        "def BIC(G: nx.DiGraph, D: pd.DataFrame) -> float:\n",
        "\n",
        "    bic=2*LL(G,D)\n",
        "    regularizer=0\n",
        "\n",
        "    for n in G.nodes:\n",
        "\n",
        "      parents=[u for u in G.nodes if G.has_edge(u,n)]\n",
        "      regularizer+=np.prod(N(n,parents,D).shape)\n",
        "\n",
        "    bic -= log(D.shape[0]) * regularizer\n",
        "    return bic\n",
        "\n",
        "#check BIC value for graph G\n",
        "print(\"BIC(G,D) =\",BIC(G,D))"
      ]
    },
    {
      "cell_type": "markdown",
      "metadata": {
        "id": "xuvvdrESbSQk"
      },
      "source": [
        "### Implementing GES"
      ]
    },
    {
      "cell_type": "code",
      "execution_count": 19,
      "metadata": {
        "id": "Y-OMFZlB-tpa"
      },
      "outputs": [],
      "source": [
        "# FS implementation\n",
        "def FS(G: nx.DiGraph, D: pd.DataFrame):\n",
        "\n",
        "  xy_edge=None\n",
        "  T_subset=set()\n",
        "  #for easier access to matrix indexes\n",
        "  node_list=dict(zip(G.nodes,range(len(G.nodes))))\n",
        "  #to reapply the same labeling on our graphs\n",
        "  mapping=dict(zip(range(len(G.nodes)),G.nodes))\n",
        "\n",
        "  G_mat=nx.adjacency_matrix(G).todense()\n",
        "  #compute starting BIC on a specific DAG in the equivalence class of G\n",
        "  new_G=nx.from_numpy_array(ges.utils.pdag_to_dag(G_mat),create_using=nx.DiGraph)\n",
        "  nx.relabel_nodes(new_G,mapping,copy=False)\n",
        "  best=BIC(new_G,D)\n",
        "\n",
        "  for x in G.nodes:\n",
        "    for y in (G.nodes-{x}):\n",
        "      # y must be not adjacent to x\n",
        "      if (G_mat[node_list[x],node_list[y]]==0 and G_mat[node_list[y],node_list[x]]==0):\n",
        "        # find neighbors of y not adjacent to x\n",
        "        set_T={\n",
        "\n",
        "            z for z in G.nodes-{x,y}\n",
        "\n",
        "            if(\n",
        "                (G_mat[node_list[z],node_list[x]]==0 and G_mat[node_list[x],node_list[z]]==0)\n",
        "            and\n",
        "                (G_mat[node_list[z],node_list[y]]==1 and G_mat[node_list[y],node_list[z]]==1)\n",
        "              )\n",
        "               }\n",
        "\n",
        "        for T in powerset(set_T):\n",
        "\n",
        "          #apply insertion\n",
        "          G_mat[node_list[x],node_list[y]]=1\n",
        "          for t in T:\n",
        "              G_mat[node_list[y],node_list[t]]=0\n",
        "          #check insertion validity\n",
        "          try:\n",
        "            ges.utils.pdag_to_dag(G_mat)\n",
        "          except:\n",
        "            G_mat=nx.adjacency_matrix(G).todense()\n",
        "            continue\n",
        "          else:\n",
        "            #compute BIC of modified graph\n",
        "            G_mat=ges.utils.pdag_to_dag(G_mat)\n",
        "            new_G=nx.from_numpy_array(G_mat,create_using=nx.DiGraph)\n",
        "            nx.relabel_nodes(new_G,mapping,copy=False)\n",
        "            delta=BIC(new_G,D)\n",
        "            #BIC comparison\n",
        "            if (delta > best):\n",
        "              best=delta\n",
        "              xy_edge=(x,y)\n",
        "              T_subset=T\n",
        "\n",
        "            G_mat=nx.adjacency_matrix(G).todense()\n",
        "\n",
        "  return (xy_edge,T_subset)\n"
      ]
    },
    {
      "cell_type": "code",
      "execution_count": 20,
      "metadata": {
        "id": "rHYqGsE-ley7"
      },
      "outputs": [],
      "source": [
        "# BS implementation\n",
        "def BS(G: nx.DiGraph, D: pd.DataFrame):\n",
        "\n",
        "  xy_edge=None\n",
        "  H_subset=set()\n",
        "\n",
        "  #for easier access to matrix indexes\n",
        "  node_list=dict(zip(G.nodes,range(len(G.nodes))))\n",
        "  #to reapply the same labeling on our graphs\n",
        "  mapping=dict(zip(range(len(G.nodes)),G.nodes))\n",
        "\n",
        "  G_mat=nx.adjacency_matrix(G).todense()\n",
        "  #compute starting BIC on a specific DAG in the equivalence class of G\n",
        "  G_eq=nx.from_numpy_array(ges.utils.pdag_to_dag(G_mat),create_using=nx.DiGraph)\n",
        "  nx.relabel_nodes(G_eq,mapping,copy=False)\n",
        "  best=BIC(G_eq,D)\n",
        "\n",
        "  for x in G.nodes:\n",
        "    for y in (G.nodes-{x}):\n",
        "      # y must be adjacent to x (x-y or x->y)\n",
        "      if (G_mat[node_list[x],node_list[y]]==1):\n",
        "        # find neighbors of y adjacent to x\n",
        "        set_H={\n",
        "\n",
        "            z for z in G.nodes-{x,y}\n",
        "\n",
        "            if(\n",
        "                (G_mat[node_list[z],node_list[x]]==1 or G_mat[node_list[x],node_list[z]]==1)\n",
        "            and\n",
        "                (G_mat[node_list[z],node_list[y]]==1 and G_mat[node_list[y],node_list[z]]==1)\n",
        "              )\n",
        "               }\n",
        "\n",
        "        for H in powerset(set_H):\n",
        "          #apply deletion\n",
        "          G_mat[node_list[x],node_list[y]]=0\n",
        "          G_mat[node_list[y],node_list[x]]=0\n",
        "          for h in H:\n",
        "              G_mat[node_list[h],node_list[y]]=0\n",
        "              if(G_mat[node_list[h],node_list[x]]==1 and G_mat[node_list[x],node_list[h]]==1):\n",
        "                G_mat[node_list[h],node_list[x]]=0\n",
        "          #check deletion validity\n",
        "          try:\n",
        "            ges.utils.pdag_to_dag(G_mat)\n",
        "          except:\n",
        "            G_mat=nx.adjacency_matrix(G).todense()\n",
        "            continue\n",
        "          else:\n",
        "            #compute BIC of modified graph\n",
        "            G_mat=ges.utils.pdag_to_dag(G_mat)\n",
        "            new_G=nx.from_numpy_array(G_mat,create_using=nx.DiGraph)\n",
        "            nx.relabel_nodes(new_G,mapping,copy=False)\n",
        "            delta=BIC(new_G,D)\n",
        "            #BIC comparison\n",
        "            if (delta > best):\n",
        "              best=delta\n",
        "              xy_edge=(x,y)\n",
        "              H_subset=H\n",
        "\n",
        "            G_mat=nx.adjacency_matrix(G).todense()\n",
        "\n",
        "  return (xy_edge,H_subset)\n"
      ]
    },
    {
      "cell_type": "code",
      "execution_count": 21,
      "metadata": {
        "id": "VcnCFEz66WfN"
      },
      "outputs": [],
      "source": [
        "# FES implementation\n",
        "def FES(G: nx.DiGraph, D: pd.DataFrame) -> nx.DiGraph:\n",
        "\n",
        "  #to reapply the same labeling on our graphs\n",
        "  node_list=dict(zip(range(len(G.nodes)),G.nodes))\n",
        "\n",
        "  (arc,T)=FS(G,D)\n",
        "  G_matrix=nx.adjacency_matrix(G).todense()\n",
        "\n",
        "  while arc!=None:\n",
        "    #add arc x->y\n",
        "    G_matrix[list(G.nodes).index(arc[0]),list(G.nodes).index(arc[1])]=1\n",
        "    #change y-t to t->y\n",
        "    for t in T:\n",
        "      G_matrix[list(G.nodes).index(arc[1]),list(G.nodes).index(t)]=0\n",
        "    #conversion to CPDAG\n",
        "    G_matrix=ges.utils.pdag_to_cpdag(G_matrix)\n",
        "    G=nx.from_numpy_array(G_matrix,create_using=nx.DiGraph)\n",
        "    nx.relabel_nodes(G,node_list,copy=False)\n",
        "\n",
        "    (arc,T)=FS(G,D)\n",
        "\n",
        "  return G"
      ]
    },
    {
      "cell_type": "code",
      "execution_count": 22,
      "metadata": {
        "id": "Mcrg-C4mleYW"
      },
      "outputs": [],
      "source": [
        "# BES implementation\n",
        "def BES(G: nx.DiGraph, D: pd.DataFrame) -> nx.DiGraph:\n",
        "\n",
        "  #to reapply the same labeling on our graphs\n",
        "  node_list=dict(zip(range(len(G.nodes)),G.nodes))\n",
        "\n",
        "  (arc,H)=BS(G,D)\n",
        "  G_matrix=nx.adjacency_matrix(G).todense()\n",
        "\n",
        "  while arc!=None:\n",
        "    #delete arc x-y\n",
        "    G_matrix[list(G.nodes).index(arc[0]),list(G.nodes).index(arc[1])]=0\n",
        "    G_matrix[list(G.nodes).index(arc[1]),list(G.nodes).index(arc[0])]=0\n",
        "    #change y-h to y->h and any x-h to x->h\n",
        "    for h in H:\n",
        "      G_matrix[list(G.nodes).index(h),list(G.nodes).index(arc[1])]=0\n",
        "      if(G_matrix[list(G.nodes).index(h),list(G.nodes).index(arc[0])]==1 and\n",
        "         G_matrix[list(G.nodes).index(arc[0]),list(G.nodes).index(h)]==1):\n",
        "        G_matrix[list(G.nodes).index(h),list(G.nodes).index(arc[0])]=0\n",
        "    #conversion to CPDAG\n",
        "    G_matrix=ges.utils.pdag_to_cpdag(G_matrix)\n",
        "    G=nx.from_numpy_array(G_matrix,create_using=nx.DiGraph)\n",
        "    nx.relabel_nodes(G,node_list,copy=False)\n",
        "\n",
        "    (arc,H)=BS(G,D)\n",
        "\n",
        "  return G"
      ]
    },
    {
      "cell_type": "code",
      "execution_count": 23,
      "metadata": {
        "id": "LUplO4qDcTFq"
      },
      "outputs": [],
      "source": [
        "# GES implementation\n",
        "def GES(D: pd.DataFrame) -> nx.DiGraph:\n",
        "\n",
        "  G=nx.DiGraph()\n",
        "  G.add_nodes_from(D.columns.values)\n",
        "  G=FES(G,D)\n",
        "  G=BES(G,D)\n",
        "\n",
        "  return G\n",
        "#nx.draw_networkx(BES(FES(G,D),D), pos = graphviz_layout(G, prog = \"dot\"),with_labels = True)"
      ]
    },
    {
      "cell_type": "code",
      "execution_count": 24,
      "metadata": {
        "id": "KSmiCV42c-IQ"
      },
      "outputs": [],
      "source": [
        "E = GES(D)"
      ]
    },
    {
      "cell_type": "code",
      "execution_count": 25,
      "metadata": {
        "colab": {
          "base_uri": "https://localhost:8080/",
          "height": 406
        },
        "id": "bfqerefihDMm",
        "outputId": "d3954b5f-bcef-43bc-8a63-7868cc7f942c"
      },
      "outputs": [
        {
          "data": {
            "image/png": "[encoded data removed]",
            "text/plain": [
              "<Figure size 640x480 with 1 Axes>"
            ]
          },
          "metadata": {},
          "output_type": "display_data"
        }
      ],
      "source": [
        "nx.draw_networkx(E, pos = graphviz_layout(E, prog = \"dot\"), with_labels = True)"
      ]
    },
    {
      "cell_type": "markdown",
      "metadata": {
        "id": "JY7Wvz9UtIQJ"
      },
      "source": [
        "### Testing GES"
      ]
    },
    {
      "cell_type": "code",
      "execution_count": 26,
      "metadata": {
        "colab": {
          "base_uri": "https://localhost:8080/"
        },
        "id": "4EbregPYzNOr",
        "outputId": "3429c302-0b57-4511-c3b7-6361ac02b012"
      },
      "outputs": [
        {
          "name": "stdout",
          "output_type": "stream",
          "text": [
            "Common Edges: {('S', 'B'), ('T', 'E'), ('E', 'D'), ('E', 'X'), ('L', 'E'), ('S', 'L'), ('B', 'D')}\n",
            "Missing Edges: {('A', 'T')}\n",
            "Extra Edges: {('B', 'S'), ('L', 'S')}\n",
            "Reversed Edges: {('B', 'S'), ('L', 'S')}\n"
          ]
        }
      ],
      "source": [
        "#summary\n",
        "print(\"Common Edges:\", E.edges & G.edges)\n",
        "print(\"Missing Edges:\", G.edges - E.edges)\n",
        "print(\"Extra Edges:\", E.edges - G.edges)\n",
        "print(\"Reversed Edges:\", E.edges & G.reverse().edges)"
      ]
    },
    {
      "cell_type": "code",
      "execution_count": 27,
      "metadata": {
        "colab": {
          "base_uri": "https://localhost:8080/",
          "height": 406
        },
        "id": "GNCWDx_ktIQJ",
        "outputId": "376ae285-76e6-4c76-e043-27c10ba832f0"
      },
      "outputs": [
        {
          "data": {
            "image/png": "[encoded data removed]",
            "text/plain": [
              "<Figure size 640x480 with 1 Axes>"
            ]
          },
          "metadata": {},
          "output_type": "display_data"
        }
      ],
      "source": [
        "#visual comparison with graph difference\n",
        "nx.draw_networkx(nx.difference(G,E), pos = graphviz_layout(G, prog = \"dot\"), with_labels = True)"
      ]
    }
  ],
  "metadata": {
    "colab": {
      "provenance": []
    },
    "kernelspec": {
      "display_name": "Python 3",
      "name": "python3"
    },
    "language_info": {
      "codemirror_mode": {
        "name": "ipython",
        "version": 3
      },
      "file_extension": ".py",
      "mimetype": "text/x-python",
      "name": "python",
      "nbconvert_exporter": "python",
      "pygments_lexer": "ipython3",
      "version": "3.11.3"
    }
  },
  "nbformat": 4,
  "nbformat_minor": 0
}
